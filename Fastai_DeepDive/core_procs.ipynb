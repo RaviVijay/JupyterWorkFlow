{
 "cells": [
  {
   "cell_type": "code",
   "execution_count": 6,
   "metadata": {},
   "outputs": [
    {
     "data": {
      "text/plain": [
       "{0, 1, 2, 3, 4, 5, 6, 7, 8, 9, 10, 11}"
      ]
     },
     "execution_count": 6,
     "metadata": {},
     "output_type": "execute_result"
    }
   ],
   "source": [
    "import os\n",
    "os.sched_getaffinity(0)"
   ]
  },
  {
   "cell_type": "code",
   "execution_count": 27,
   "metadata": {},
   "outputs": [
    {
     "data": {
      "text/plain": [
       "[0, 1, 4, 9, 16, 25, 36, 49, 64, 81]"
      ]
     },
     "execution_count": 27,
     "metadata": {},
     "output_type": "execute_result"
    }
   ],
   "source": [
    "#uniquify\n",
    "x = [i**2 for i in range(10)]; \n",
    "y = sorted(list(OrderedDict.fromkeys(x).keys()))\n",
    "y"
   ]
  },
  {
   "cell_type": "code",
   "execution_count": 28,
   "metadata": {},
   "outputs": [
    {
     "data": {
      "text/plain": [
       "{0: 0, 1: 1, 4: 2, 9: 3, 16: 4, 25: 5, 36: 6, 49: 7, 64: 8, 81: 9}"
      ]
     },
     "execution_count": 28,
     "metadata": {},
     "output_type": "execute_result"
    }
   ],
   "source": [
    "#idx_dict\n",
    "{v:k for k,v in enumerate(x)}"
   ]
  },
  {
   "cell_type": "code",
   "execution_count": 32,
   "metadata": {},
   "outputs": [],
   "source": [
    "#find_classes\n",
    "from pathlib import Path\n",
    "path = Path('data/WillItLearn_Circles'); path\n",
    "classes = [d for d in path.iterdir() if d.is_dir() and not d.name.startswith('models')]\n",
    "sorted(classes, key=lambda k:k.name)"
   ]
  },
  {
   "cell_type": "code",
   "execution_count": 71,
   "metadata": {},
   "outputs": [
    {
     "data": {
      "text/plain": [
       "array([-1, -1, -1, -2, -2, -2, -2, -1, -1, -1])"
      ]
     },
     "execution_count": 71,
     "metadata": {},
     "output_type": "execute_result"
    }
   ],
   "source": [
    "~my_random_mask"
   ]
  },
  {
   "cell_type": "code",
   "execution_count": 76,
   "metadata": {},
   "outputs": [
    {
     "name": "stdout",
     "output_type": "stream",
     "text": [
      "[[44, 72, 45, 17, 73, 51, 2, 50, 6, 39], [40, 37, 96, 12, 61, 72, 50, 32, 27, 41], [73, 67, 45, 77, 43, 30, 37, 98, 21, 94], [82, 21, 50, 98, 22, 54, 37, 96, 77, 27], [24, 27, 64, 96, 52, 36, 82, 16, 83, 21], [58, 96, 37, 6, 32, 4, 61, 33, 91, 2], [86, 39, 97, 18, 27, 76, 57, 84, 40, 71], [23, 36, 40, 59, 38, 44, 22, 35, 71, 14], [73, 81, 34, 38, 30, 96, 17, 91, 49, 77], [41, 1, 27, 97, 36, 58, 47, 23, 48, 64]]\n",
      "[True, False, False, False, True, True, True, False, True, True]\n"
     ]
    },
    {
     "data": {
      "text/plain": [
       "[[array([44, 73, 51,  2,  6, 39]), array([72, 45, 17, 50])],\n",
       " [array([40, 61, 72, 50, 27, 41]), array([37, 96, 12, 32])],\n",
       " [array([73, 43, 30, 37, 21, 94]), array([67, 45, 77, 98])],\n",
       " [array([82, 22, 54, 37, 77, 27]), array([21, 50, 98, 96])],\n",
       " [array([24, 52, 36, 82, 83, 21]), array([27, 64, 96, 16])],\n",
       " [array([58, 32,  4, 61, 91,  2]), array([96, 37,  6, 33])],\n",
       " [array([86, 27, 76, 57, 40, 71]), array([39, 97, 18, 84])],\n",
       " [array([23, 38, 44, 22, 71, 14]), array([36, 40, 59, 35])],\n",
       " [array([73, 30, 96, 17, 49, 77]), array([81, 34, 38, 91])],\n",
       " [array([41, 36, 58, 47, 48, 64]), array([ 1, 27, 97, 23])]]"
      ]
     },
     "execution_count": 76,
     "metadata": {},
     "output_type": "execute_result"
    }
   ],
   "source": [
    "### arrays_split\n",
    "import random\n",
    "import numpy as np\n",
    "my_random_list = [ random.sample(range(1,100), 10) for i in range(10) ]; \n",
    "print(my_random_list)\n",
    "my_random_mask = [random.randint(0,1)==1 for i in range(10)]; \n",
    "print(my_random_mask)\n",
    "my_random_mask = np.array(my_random_mask)\n",
    "def arrays_split(my_random_list, my_random_mask):\n",
    "    return list([a[my_random_mask], a[~my_random_mask]]\n",
    "        for a in map(np.array,my_random_list))\n",
    "arrays_split(my_random_list, my_random_mask)"
   ]
  },
  {
   "cell_type": "code",
   "execution_count": 85,
   "metadata": {},
   "outputs": [
    {
     "data": {
      "text/plain": [
       "[[array([44, 72, 45, 17, 51,  2, 50,  6, 39]), array([73])],\n",
       " [array([40, 37, 96, 12, 72, 50, 32, 27, 41]), array([61])],\n",
       " [array([73, 67, 45, 77, 30, 37, 98, 21, 94]), array([43])],\n",
       " [array([82, 21, 50, 98, 54, 37, 96, 77, 27]), array([22])],\n",
       " [array([24, 27, 64, 96, 36, 82, 16, 83, 21]), array([52])],\n",
       " [array([58, 96, 37,  6,  4, 61, 33, 91,  2]), array([32])],\n",
       " [array([86, 39, 97, 18, 76, 57, 84, 40, 71]), array([27])],\n",
       " [array([23, 36, 40, 59, 44, 22, 35, 71, 14]), array([38])],\n",
       " [array([73, 81, 34, 38, 96, 17, 91, 49, 77]), array([30])],\n",
       " [array([41,  1, 27, 97, 58, 47, 23, 48, 64]), array([36])]]"
      ]
     },
     "execution_count": 85,
     "metadata": {},
     "output_type": "execute_result"
    }
   ],
   "source": [
    "#random_split\n",
    "import numpy as np\n",
    "valid_pct = 0.3\n",
    "train_mask = np.random.uniform(size=len(my_random_list[0])) > valid_pct\n",
    "arrays_split(my_random_list, train_mask)"
   ]
  },
  {
   "cell_type": "code",
   "execution_count": 90,
   "metadata": {},
   "outputs": [
    {
     "data": {
      "text/plain": [
       "[1.0, 10.0, 100.0, 1000.0, 10000.0]"
      ]
     },
     "execution_count": 90,
     "metadata": {},
     "output_type": "execute_result"
    }
   ],
   "source": [
    "#even_mults\n",
    "start = 1\n",
    "stop  = 10000\n",
    "n     = 5\n",
    "mult  = stop/start\n",
    "step  = mult**(1/(n-1))\n",
    "[start*(step**i) for i in range(n)]\n"
   ]
  },
  {
   "cell_type": "code",
   "execution_count": 92,
   "metadata": {},
   "outputs": [
    {
     "data": {
      "text/plain": [
       "<enumerate at 0x7fe6ec6cd708>"
      ]
     },
     "execution_count": 92,
     "metadata": {},
     "output_type": "execute_result"
    }
   ],
   "source": [
    "enumerate(range(10))"
   ]
  },
  {
   "cell_type": "code",
   "execution_count": 116,
   "metadata": {},
   "outputs": [
    {
     "name": "stdout",
     "output_type": "stream",
     "text": [
      "{0: 0, 1: 1, 4: 2, 9: 3, 16: 4, 25: 5, 36: 6, 49: 7, 64: 8, 81: 9}\n",
      "[25, 64, 49, 1]\n",
      "{25: 5, 64: 8, 49: 7, 1: 1} {0: 0, 4: 2, 9: 3, 16: 4, 36: 6, 81: 9}\n"
     ]
    }
   ],
   "source": [
    "#extract_kwargs\n",
    "kwargs = {k**2:v for v,k in enumerate(range(10))}; print(kwargs)\n",
    "names  = [i**2 for i in random.sample(range(10),4)]; print(names)\n",
    "\n",
    "new_kwargs = {}\n",
    "for arg_name in names:\n",
    "    if arg_name in kwargs:\n",
    "        arg_val = kwargs.pop(arg_name)\n",
    "        new_kwargs[arg_name] = arg_val\n",
    "print(new_kwargs, kwargs)\n",
    "\n"
   ]
  },
  {
   "cell_type": "code",
   "execution_count": 140,
   "metadata": {},
   "outputs": [
    {
     "name": "stdout",
     "output_type": "stream",
     "text": [
      "[965, 659, 600, 145, 777, 668, 918, 444, 347, 906, 856, 879, 351, 913, 70, 800, 720, 172, 89, 730, 926, 737, 221, 416, 573]\n"
     ]
    },
    {
     "data": {
      "text/plain": [
       "[[965, 659, 600],\n",
       " [145, 777, 668],\n",
       " [918, 444, 347],\n",
       " [906, 856, 879],\n",
       " [351, 913, 70],\n",
       " [800, 720, 172],\n",
       " [89, 730, 926],\n",
       " [737, 221, 416],\n",
       " [573]]"
      ]
     },
     "execution_count": 140,
     "metadata": {},
     "output_type": "execute_result"
    }
   ],
   "source": [
    "#partition\n",
    "a = random.sample(range(1000), 25); \n",
    "print(a)\n",
    "sz = 3\n",
    "#[a[i:i+sz] for i in range(int(len(a)/sz))]\n",
    "[a[i:i+sz] for i in range(0,len(a),sz)]\n",
    "#[i for i in range(0,len(a),sz)]"
   ]
  },
  {
   "cell_type": "code",
   "execution_count": 150,
   "metadata": {},
   "outputs": [
    {
     "data": {
      "text/plain": [
       "[PosixPath('data/WillItLearn_Circles/6'),\n",
       " PosixPath('data/WillItLearn_Circles/3'),\n",
       " PosixPath('data/WillItLearn_Circles/0'),\n",
       " PosixPath('data/WillItLearn_Circles/9'),\n",
       " PosixPath('data/WillItLearn_Circles/4'),\n",
       " PosixPath('data/WillItLearn_Circles/7'),\n",
       " PosixPath('data/WillItLearn_Circles/8'),\n",
       " PosixPath('data/WillItLearn_Circles/5'),\n",
       " PosixPath('data/WillItLearn_Circles/1'),\n",
       " PosixPath('data/WillItLearn_Circles/2'),\n",
       " PosixPath('data/WillItLearn_Circles/models')]"
      ]
     },
     "execution_count": 150,
     "metadata": {},
     "output_type": "execute_result"
    }
   ],
   "source": [
    "#join_paths\n",
    "dir = Path('data/WillItLearn_Circles') ; dir\n",
    "fnames = [f.name for f in dir.iterdir()]; fnames\n",
    "\n",
    "[Path(dir/f) for f in fnames]"
   ]
  },
  {
   "cell_type": "code",
   "execution_count": 162,
   "metadata": {},
   "outputs": [
    {
     "data": {
      "text/plain": [
       "array(['test:', 'python -m pytest jupyterworkflow'], dtype='<U32')"
      ]
     },
     "execution_count": 162,
     "metadata": {},
     "output_type": "execute_result"
    }
   ],
   "source": [
    "#load_txtstr\n",
    "p = Path('Makefile')\n",
    "with open(p, 'r') as f: lines = f.readlines();\n",
    "#print(lines)\n",
    "np.array([l.strip() for l in lines])"
   ]
  },
  {
   "cell_type": "code",
   "execution_count": 167,
   "metadata": {},
   "outputs": [
    {
     "data": {
      "text/plain": [
       "('a', 'b')"
      ]
     },
     "execution_count": 167,
     "metadata": {},
     "output_type": "execute_result"
    }
   ],
   "source": [
    "def test(a=2, b =3):\n",
    "    return a+b\n",
    "\n",
    "code = test.__code__\n",
    "code.co_varnames[:code.co_argcount]"
   ]
  },
  {
   "cell_type": "code",
   "execution_count": null,
   "metadata": {},
   "outputs": [],
   "source": [
    "\n"
   ]
  }
 ],
 "metadata": {
  "kernelspec": {
   "display_name": "Python 3",
   "language": "python",
   "name": "python3"
  },
  "language_info": {
   "codemirror_mode": {
    "name": "ipython",
    "version": 3
   },
   "file_extension": ".py",
   "mimetype": "text/x-python",
   "name": "python",
   "nbconvert_exporter": "python",
   "pygments_lexer": "ipython3",
   "version": "3.7.1"
  }
 },
 "nbformat": 4,
 "nbformat_minor": 2
}
