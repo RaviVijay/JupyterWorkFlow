{
 "cells": [
  {
   "cell_type": "code",
   "execution_count": 12,
   "metadata": {},
   "outputs": [],
   "source": [
    "\"Utility functions to help deal with tensors\"\n",
    "from fastai.imports.torch import *\n",
    "from fastai.core import *\n"
   ]
  },
  {
   "cell_type": "code",
   "execution_count": 6,
   "metadata": {},
   "outputs": [],
   "source": [
    "def is_listy(x): \n",
    "    return isinstance(x,(tuple,list))"
   ]
  },
  {
   "cell_type": "code",
   "execution_count": 50,
   "metadata": {},
   "outputs": [
    {
     "name": "stdout",
     "output_type": "stream",
     "text": [
      "tensor(0)\n",
      "tensor([2, 2, 4])\n",
      "tensor([2, 2, 4])\n"
     ]
    },
    {
     "data": {
      "text/plain": [
       "torch.int64"
      ]
     },
     "execution_count": 50,
     "metadata": {},
     "output_type": "execute_result"
    }
   ],
   "source": [
    "#tensor ( x:Any, *rest)-> Tensor\n",
    "x = 2\n",
    "rest = (2,4)\n",
    "\n",
    "if len(rest): x = (x,)+rest\n",
    "if is_listy(x) and len(x): \n",
    "    print(torch.tensor(0))\n",
    "res = torch.tensor(x) if is_listy(x) else as_tensor(x)\n",
    "print(torch.tensor(x))\n",
    "print(as_tensor(x))\n",
    "  \n",
    "res.dtype"
   ]
  },
  {
   "cell_type": "code",
   "execution_count": 51,
   "metadata": {},
   "outputs": [
    {
     "data": {
      "text/plain": [
       "(2, 2, 4)"
      ]
     },
     "execution_count": 51,
     "metadata": {},
     "output_type": "execute_result"
    }
   ],
   "source": [
    "x"
   ]
  },
  {
   "cell_type": "code",
   "execution_count": 55,
   "metadata": {},
   "outputs": [
    {
     "data": {
      "text/plain": [
       "array([2, 2, 4])"
      ]
     },
     "execution_count": 55,
     "metadata": {},
     "output_type": "execute_result"
    }
   ],
   "source": [
    "# np_address (x: np.ndarray)->int\n",
    "x_nparr = np.array(x); x_nparr\n",
    "x_nparr.__array_interface__['data'][0]"
   ]
  },
  {
   "cell_type": "code",
   "execution_count": 113,
   "metadata": {},
   "outputs": [],
   "source": [
    "# *****DOESNT WORK YET******\n",
    "#to_detach (b: Tensors, cpu:True)\n",
    "bs = [Tensor([2,4]), Tensor(2)];\n",
    "torch.device = torch.cuda.current_device()\n",
    "[b.to(torch.device) for b in bs]\n",
    "def to_detach (b, cpu:True):\n",
    "    if is_listy(bs): return [to_detach(o, cpu) for o in b]\n",
    "    if not isinstance(b, Tensor): return b\n",
    "    b = b.detach()\n",
    "    return b.cpu() if cpu else b\n",
    "\n",
    "\n",
    "b = bs[0]\n",
    "\n",
    "b.to(torch.device)"
   ]
  },
  {
   "cell_type": "code",
   "execution_count": 133,
   "metadata": {},
   "outputs": [],
   "source": [
    "# to_data(b: ItemList)\n",
    "x = ItemBase(2)\n",
    "xs = [ItemBase(i) for i in range(5)]\n",
    "xss = xs*2\n",
    "[i.data for i in xs]\n",
    "def to_data(b):\n",
    "    if is_listy(b): return [to_data(i) for i in b]\n",
    "    return b.data if isinstance(b,ItemBase) else b\n",
    "\n",
    "to_data(xss)"
   ]
  },
  {
   "cell_type": "code",
   "execution_count": 152,
   "metadata": {},
   "outputs": [
    {
     "data": {
      "text/plain": [
       "tensor([  1.0000,   2.3008, 562.0000], dtype=torch.float16)"
      ]
     },
     "execution_count": 152,
     "metadata": {},
     "output_type": "execute_result"
    }
   ],
   "source": [
    "# to_half(bs)\n",
    "\n",
    "b = [torch.tensor([1.0]),torch.tensor([1.0,2.3, 46.6,  22.])] ;\n",
    "b = [torch.tensor([1.0]),torch.tensor([1.0,2.3, 46.6,  22.])] ;\n",
    "b = [torch.tensor([1.0]),torch.tensor([1.0])] ;\n",
    "b = torch.tensor([1.0,2.3,562])\n",
    "\n",
    "def to_half(bs):\n",
    "    if is_listy(bs): return [to_half(b) for b in bs]\n",
    "    return b.half() if b.dtype!=torch.int64 else b\n",
    "\n",
    "to_half(b)"
   ]
  },
  {
   "cell_type": "code",
   "execution_count": 180,
   "metadata": {},
   "outputs": [
    {
     "data": {
      "text/plain": [
       "torch.Tensor"
      ]
     },
     "execution_count": 180,
     "metadata": {},
     "output_type": "execute_result"
    }
   ],
   "source": [
    "# *****DOESNT WORK YET******\n",
    "#to_device(bs, device)\n",
    "\n",
    "type(b)\n",
    "\n",
    "device = None\n",
    "\n",
    "defaults.device = torch.cuda.device(0)\n",
    "\n",
    "defaults.device = torch.device('cpu'); defaults.device\n",
    "\n",
    "#defaults.device = torch.device('cuda') if torch.cuda.is_available() else torch.device('cpu')\n",
    "def to_device(b, device):\n",
    "    device = ifnone(device, defaults.device)\n",
    "    print(device)\n",
    "    if is_listy(b): return [to_device(o, device ) for o in b]\n",
    "    print(b, device)\n",
    "    return b.to(device)\n",
    "    \n",
    "\n",
    "to_device(b, None)\n",
    "\n",
    "b.to(torch.device)"
   ]
  },
  {
   "cell_type": "code",
   "execution_count": 226,
   "metadata": {},
   "outputs": [
    {
     "name": "stdout",
     "output_type": "stream",
     "text": [
      "[tensor([ 2, 64]), tensor([ 2, 53])]\n",
      "tensor([2, 2, 2, 2, 2, 2, 2, 2, 2, 2, 2, 2, 2, 2, 2, 2, 2, 2, 2, 2, 2, 2, 2, 2,\n",
      "        2, 2, 2, 2, 2, 2, 2, 2, 2, 2, 2, 2, 2, 2, 2, 2, 2, 2, 2, 2, 2, 2, 2, 2,\n",
      "        2, 2, 2, 2, 2, 2, 2, 2, 2, 2, 2, 2, 2, 2, 2, 2])\n"
     ]
    }
   ],
   "source": [
    "#data_collate\n",
    "batch  = [[ItemBase(2)]*2, [64,53,232]]\n",
    "print(torch.utils.data.dataloader.default_collate(to_data(batch)))\n",
    "batch  = [ItemBase(2)]*64\n",
    "print(torch.utils.data.dataloader.default_collate(to_data(batch)))\n",
    "\n",
    "#??torch.utils.data.dataloader.default_collate"
   ]
  },
  {
   "cell_type": "code",
   "execution_count": null,
   "metadata": {},
   "outputs": [],
   "source": [
    "#requires_grad\n"
   ]
  }
 ],
 "metadata": {
  "kernelspec": {
   "display_name": "Python 3",
   "language": "python",
   "name": "python3"
  },
  "language_info": {
   "codemirror_mode": {
    "name": "ipython",
    "version": 3
   },
   "file_extension": ".py",
   "mimetype": "text/x-python",
   "name": "python",
   "nbconvert_exporter": "python",
   "pygments_lexer": "ipython3",
   "version": "3.7.1"
  }
 },
 "nbformat": 4,
 "nbformat_minor": 2
}
