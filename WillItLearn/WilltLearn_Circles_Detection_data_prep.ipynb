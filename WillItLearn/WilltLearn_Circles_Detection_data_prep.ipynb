{
 "cells": [
  {
   "cell_type": "code",
   "execution_count": 2,
   "metadata": {},
   "outputs": [],
   "source": [
    "import numpy as np\n",
    "from PIL import Image, ImageDraw\n",
    "import random\n",
    "import matplotlib.pyplot as plt\n",
    "from pathlib import Path\n",
    "\n",
    "%matplotlib inline"
   ]
  },
  {
   "cell_type": "code",
   "execution_count": null,
   "metadata": {},
   "outputs": [],
   "source": []
  },
  {
   "cell_type": "code",
   "execution_count": 3,
   "metadata": {},
   "outputs": [],
   "source": [
    "img_shape = (100, 100, 3)"
   ]
  },
  {
   "cell_type": "code",
   "execution_count": 95,
   "metadata": {},
   "outputs": [],
   "source": [
    "def img_fixed_circles(img_shape, num_circles , max_radius = 32):\n",
    "    w = img_shape[1]\n",
    "    h = img_shape[0]\n",
    "    img = Image.new('RGB', size=(w,h))\n",
    "    draw = ImageDraw.Draw(img)\n",
    "    #num_circles = random.randint(1,max_circ)\n",
    "    list_of_coords = []\n",
    "    circs_label = []\n",
    "    for iC in range(num_circles):\n",
    "        sz = random.randint(1,max_radius)\n",
    "        x1 = random.randint(sz, w-sz)\n",
    "        y1 = random.randint(sz, h-sz)\n",
    "        x2 = x1+sz\n",
    "        y2 = y1+sz\n",
    "        coords = [x1,y1, x2,y2]\n",
    "        coords_with_inverted_y = [y1,x1, y2,x2]\n",
    "        list_of_coords.append(coords_with_inverted_y)\n",
    "        circs_label.append('circle')\n",
    "        draw.ellipse(coords, fill = 'white', outline='red')\n",
    "    #img = np.array(img).astype(np.uint8)/255\n",
    "    return img, [list_of_coords, circs_label]"
   ]
  },
  {
   "cell_type": "code",
   "execution_count": 96,
   "metadata": {},
   "outputs": [
    {
     "name": "stdout",
     "output_type": "stream",
     "text": [
      "[[[36, 20, 39, 23]], ['circle']]\n"
     ]
    },
    {
     "data": {
      "text/plain": [
       "<matplotlib.image.AxesImage at 0x7f2bbe897198>"
      ]
     },
     "execution_count": 96,
     "metadata": {},
     "output_type": "execute_result"
    },
    {
     "data": {
      "image/png": "[encoded data removed]",
      "text/plain": [
       "<Figure size 432x288 with 1 Axes>"
      ]
     },
     "metadata": {
      "needs_background": "light"
     },
     "output_type": "display_data"
    }
   ],
   "source": [
    "img , lblbbox = img_fixed_circles(img_shape,1)\n",
    "print(lblbbox);plt.imshow(img)"
   ]
  },
  {
   "cell_type": "code",
   "execution_count": 97,
   "metadata": {},
   "outputs": [],
   "source": [
    "p = Path('.')\n",
    "data = p / 'data' / 'WillItLearn_Circles_ObjDetection'"
   ]
  },
  {
   "cell_type": "code",
   "execution_count": 98,
   "metadata": {},
   "outputs": [
    {
     "data": {
      "text/plain": [
       "PosixPath('data/WillItLearn_Circles_ObjDetection')"
      ]
     },
     "execution_count": 98,
     "metadata": {},
     "output_type": "execute_result"
    }
   ],
   "source": [
    "data"
   ]
  },
  {
   "cell_type": "code",
   "execution_count": 99,
   "metadata": {},
   "outputs": [],
   "source": [
    "data.mkdir(parents=True,exist_ok=True)"
   ]
  },
  {
   "cell_type": "raw",
   "metadata": {},
   "source": [
    "[[[86.34, 32.52, 95.75, 41.050000000000004],\n",
    "  [110.52, 98.12, 114.59, 100.07000000000001],\n",
    "  [51.62, 91.28, 57.339999999999996, 95.23],\n",
    "  [110.82, 110.48, 126.03999999999999, 125.03],\n",
    "  [50.18, 96.63, 63.64, 115.3],\n",
    "  [111.73, 0.69, 124.79, 12.49]],\n",
    " ['chair', 'vase', 'vase', 'chair', 'chair', 'chair']]"
   ]
  },
  {
   "cell_type": "code",
   "execution_count": 100,
   "metadata": {},
   "outputs": [],
   "source": [
    "total_figs = 1000"
   ]
  },
  {
   "cell_type": "code",
   "execution_count": 101,
   "metadata": {},
   "outputs": [
    {
     "data": {
      "text/plain": [
       "PosixPath('data/WillItLearn_Circles_ObjDetection')"
      ]
     },
     "execution_count": 101,
     "metadata": {},
     "output_type": "execute_result"
    }
   ],
   "source": [
    "data"
   ]
  },
  {
   "cell_type": "code",
   "execution_count": 105,
   "metadata": {},
   "outputs": [
    {
     "name": "stdout",
     "output_type": "stream",
     "text": [
      "1\n",
      "2\n",
      "3\n",
      "4\n",
      "5\n",
      "6\n",
      "7\n",
      "8\n",
      "9\n"
     ]
    }
   ],
   "source": [
    "dict_img_lblbbox = {}\n",
    "img_name_lst = []\n",
    "lblbbox_lst = []\n",
    "\n",
    "for num_circs in range(1,10):\n",
    "    print(num_circs)\n",
    "    for figcnt in range(total_figs):\n",
    "        img, lblbbox = img_fixed_circles(img_shape, num_circs)\n",
    "        img_name_lst.append(str(data)+'/'+str(num_circs)+'_'+str(figcnt)+'.png')\n",
    "        lblbbox_lst.append(lblbbox)\n",
    "        figname = Path(str(num_circs)+'_'+str(figcnt)+'.png')\n",
    "        img.save(data/figname)\n",
    "        "
   ]
  },
  {
   "cell_type": "code",
   "execution_count": 106,
   "metadata": {},
   "outputs": [],
   "source": [
    "dict_img_lblbbox = {'img_name' : img_name_lst, 'lblname': lblbbox_lst}\n",
    "import pandas as pd\n",
    "df = pd.DataFrame(data=dict_img_lblbbox)\n"
   ]
  },
  {
   "cell_type": "code",
   "execution_count": 107,
   "metadata": {},
   "outputs": [],
   "source": [
    "\n",
    "df.to_csv(data/'WillItLearn_Circles_ObjDetect.csv')"
   ]
  },
  {
   "cell_type": "code",
   "execution_count": 64,
   "metadata": {},
   "outputs": [
    {
     "data": {
      "text/plain": [
       "PosixPath('data/WillItLearn_Circles_ObjDetection')"
      ]
     },
     "execution_count": 64,
     "metadata": {},
     "output_type": "execute_result"
    }
   ],
   "source": [
    "data"
   ]
  },
  {
   "cell_type": "code",
   "execution_count": null,
   "metadata": {},
   "outputs": [],
   "source": []
  }
 ],
 "metadata": {
  "kernelspec": {
   "display_name": "Python 3",
   "language": "python",
   "name": "python3"
  },
  "language_info": {
   "codemirror_mode": {
    "name": "ipython",
    "version": 3
   },
   "file_extension": ".py",
   "mimetype": "text/x-python",
   "name": "python",
   "nbconvert_exporter": "python",
   "pygments_lexer": "ipython3",
   "version": "3.7.1"
  }
 },
 "nbformat": 4,
 "nbformat_minor": 2
}
